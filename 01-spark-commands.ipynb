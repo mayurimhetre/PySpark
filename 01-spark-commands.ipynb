{
 "cells": [
  {
   "cell_type": "code",
   "execution_count": 1,
   "id": "c4271987",
   "metadata": {},
   "outputs": [
    {
     "name": "stdout",
     "output_type": "stream",
     "text": [
      "Defaulting to user installation because normal site-packages is not writeable\n",
      "Requirement already satisfied: pyspark in c:\\users\\10704318\\appdata\\roaming\\python\\python310\\site-packages (3.3.0)\n",
      "Requirement already satisfied: py4j==0.10.9.5 in c:\\users\\10704318\\appdata\\roaming\\python\\python310\\site-packages (from pyspark) (0.10.9.5)\n",
      "\n",
      "[notice] A new release of pip available: 22.1.2 -> 22.2.2\n",
      "[notice] To update, run: python.exe -m pip install --upgrade pip\n"
     ]
    },
    {
     "name": "stderr",
     "output_type": "stream",
     "text": [
      "WARNING: Ignoring invalid distribution -yspark (c:\\users\\10704318\\appdata\\roaming\\python\\python310\\site-packages)\n",
      "WARNING: Ignoring invalid distribution -ip (c:\\users\\10704318\\appdata\\roaming\\python\\python310\\site-packages)\n",
      "WARNING: Ignoring invalid distribution -yspark (c:\\users\\10704318\\appdata\\roaming\\python\\python310\\site-packages)\n",
      "WARNING: Ignoring invalid distribution -ip (c:\\users\\10704318\\appdata\\roaming\\python\\python310\\site-packages)\n",
      "WARNING: Ignoring invalid distribution -yspark (c:\\users\\10704318\\appdata\\roaming\\python\\python310\\site-packages)\n",
      "WARNING: Ignoring invalid distribution -ip (c:\\users\\10704318\\appdata\\roaming\\python\\python310\\site-packages)\n",
      "WARNING: Ignoring invalid distribution -yspark (c:\\users\\10704318\\appdata\\roaming\\python\\python310\\site-packages)\n",
      "WARNING: Ignoring invalid distribution -ip (c:\\users\\10704318\\appdata\\roaming\\python\\python310\\site-packages)\n",
      "WARNING: Ignoring invalid distribution -yspark (c:\\users\\10704318\\appdata\\roaming\\python\\python310\\site-packages)\n",
      "WARNING: Ignoring invalid distribution -ip (c:\\users\\10704318\\appdata\\roaming\\python\\python310\\site-packages)\n",
      "WARNING: Ignoring invalid distribution -yspark (c:\\users\\10704318\\appdata\\roaming\\python\\python310\\site-packages)\n",
      "WARNING: Ignoring invalid distribution -ip (c:\\users\\10704318\\appdata\\roaming\\python\\python310\\site-packages)\n",
      "WARNING: Ignoring invalid distribution -yspark (c:\\users\\10704318\\appdata\\roaming\\python\\python310\\site-packages)\n",
      "WARNING: Ignoring invalid distribution -ip (c:\\users\\10704318\\appdata\\roaming\\python\\python310\\site-packages)\n",
      "WARNING: Ignoring invalid distribution -yspark (c:\\users\\10704318\\appdata\\roaming\\python\\python310\\site-packages)\n",
      "WARNING: Ignoring invalid distribution -ip (c:\\users\\10704318\\appdata\\roaming\\python\\python310\\site-packages)\n",
      "WARNING: Ignoring invalid distribution -yspark (c:\\users\\10704318\\appdata\\roaming\\python\\python310\\site-packages)\n",
      "WARNING: Ignoring invalid distribution -ip (c:\\users\\10704318\\appdata\\roaming\\python\\python310\\site-packages)\n",
      "WARNING: Ignoring invalid distribution -yspark (c:\\users\\10704318\\appdata\\roaming\\python\\python310\\site-packages)\n",
      "WARNING: Ignoring invalid distribution -ip (c:\\users\\10704318\\appdata\\roaming\\python\\python310\\site-packages)\n",
      "WARNING: Ignoring invalid distribution -yspark (c:\\users\\10704318\\appdata\\roaming\\python\\python310\\site-packages)\n",
      "WARNING: Ignoring invalid distribution -ip (c:\\users\\10704318\\appdata\\roaming\\python\\python310\\site-packages)\n",
      "WARNING: Ignoring invalid distribution -yspark (c:\\users\\10704318\\appdata\\roaming\\python\\python310\\site-packages)\n",
      "WARNING: Ignoring invalid distribution -ip (c:\\users\\10704318\\appdata\\roaming\\python\\python310\\site-packages)\n"
     ]
    },
    {
     "name": "stdout",
     "output_type": "stream",
     "text": [
      "Defaulting to user installation because normal site-packages is not writeable\n",
      "Requirement already satisfied: findspark in c:\\users\\10704318\\appdata\\roaming\\python\\python310\\site-packages (2.0.1)\n",
      "\n",
      "[notice] A new release of pip available: 22.1.2 -> 22.2.2\n",
      "[notice] To update, run: python.exe -m pip install --upgrade pip\n"
     ]
    }
   ],
   "source": [
    "# Installing required packages\n",
    "!pip install pyspark\n",
    "!pip install findspark\n",
    "import findspark\n",
    "findspark.init()\n",
    "\n",
    "# PySpark is the Spark API for Python. In this lab, we use PySpark to initialize the spark context. \n",
    "from pyspark import SparkContext, SparkConf\n",
    "from pyspark.sql import SparkSession\n",
    "# Creating a spark context class\n",
    "sc = SparkContext()\n",
    "\n",
    "# Creating a spark session\n",
    "spark = SparkSession \\\n",
    "    .builder \\\n",
    "    .appName(\"Python Spark DataFrames basic example\") \\\n",
    "    .config(\"spark.some.config.option\", \"some-value\") \\\n",
    "    .getOrCreate()"
   ]
  },
  {
   "cell_type": "code",
   "execution_count": 2,
   "id": "25b30831",
   "metadata": {},
   "outputs": [],
   "source": [
    "file = \"train.csv\"\n",
    "df_train = spark.read.csv(file,header = True,inferSchema=True)"
   ]
  },
  {
   "cell_type": "code",
   "execution_count": 3,
   "id": "f64fb150",
   "metadata": {},
   "outputs": [
    {
     "name": "stdout",
     "output_type": "stream",
     "text": [
      "+-----------+--------+------+--------------------+------+----+-----+-----+----------------+-------+-----+--------+\n",
      "|PassengerId|Survived|Pclass|                Name|   Sex| Age|SibSp|Parch|          Ticket|   Fare|Cabin|Embarked|\n",
      "+-----------+--------+------+--------------------+------+----+-----+-----+----------------+-------+-----+--------+\n",
      "|          1|       0|     3|Braund, Mr. Owen ...|  male|22.0|    1|    0|       A/5 21171|   7.25| null|       S|\n",
      "|          2|       1|     1|Cumings, Mrs. Joh...|female|38.0|    1|    0|        PC 17599|71.2833|  C85|       C|\n",
      "|          3|       1|     3|Heikkinen, Miss. ...|female|26.0|    0|    0|STON/O2. 3101282|  7.925| null|       S|\n",
      "+-----------+--------+------+--------------------+------+----+-----+-----+----------------+-------+-----+--------+\n",
      "only showing top 3 rows\n",
      "\n"
     ]
    }
   ],
   "source": [
    "df_train.show(3)"
   ]
  },
  {
   "cell_type": "markdown",
   "id": "c1fd4b20",
   "metadata": {},
   "source": [
    "## select "
   ]
  },
  {
   "cell_type": "code",
   "execution_count": 4,
   "id": "4faa618d",
   "metadata": {},
   "outputs": [
    {
     "name": "stdout",
     "output_type": "stream",
     "text": [
      "+-----------+\n",
      "|PassengerId|\n",
      "+-----------+\n",
      "|          1|\n",
      "|          2|\n",
      "|          3|\n",
      "|          4|\n",
      "|          5|\n",
      "|          6|\n",
      "|          7|\n",
      "|          8|\n",
      "|          9|\n",
      "|         10|\n",
      "+-----------+\n",
      "only showing top 10 rows\n",
      "\n"
     ]
    }
   ],
   "source": [
    "df_train.select('PassengerId').show(10)"
   ]
  },
  {
   "cell_type": "code",
   "execution_count": 5,
   "id": "e3874296",
   "metadata": {},
   "outputs": [
    {
     "data": {
      "text/plain": [
       "[('PassengerId', 'int'),\n",
       " ('Survived', 'int'),\n",
       " ('Pclass', 'int'),\n",
       " ('Name', 'string'),\n",
       " ('Sex', 'string'),\n",
       " ('Age', 'double'),\n",
       " ('SibSp', 'int'),\n",
       " ('Parch', 'int'),\n",
       " ('Ticket', 'string'),\n",
       " ('Fare', 'double'),\n",
       " ('Cabin', 'string'),\n",
       " ('Embarked', 'string')]"
      ]
     },
     "execution_count": 5,
     "metadata": {},
     "output_type": "execute_result"
    }
   ],
   "source": [
    "df_train.dtypes"
   ]
  },
  {
   "cell_type": "code",
   "execution_count": 6,
   "id": "8e2d4f4c",
   "metadata": {},
   "outputs": [],
   "source": [
    "file = \"train.csv\"\n",
    "df_train = spark.read.csv(file,header = True,inferSchema=True)\n",
    "df_train = df_train.drop('PassengerId','Ticket','Name','Cabin')"
   ]
  },
  {
   "cell_type": "code",
   "execution_count": 7,
   "id": "c39dadac",
   "metadata": {},
   "outputs": [
    {
     "name": "stdout",
     "output_type": "stream",
     "text": [
      "+--------+------+------+----+-----+-----+-------+--------+\n",
      "|Survived|Pclass|   Sex| Age|SibSp|Parch|   Fare|Embarked|\n",
      "+--------+------+------+----+-----+-----+-------+--------+\n",
      "|       0|     3|  male|22.0|    1|    0|   7.25|       S|\n",
      "|       1|     1|female|38.0|    1|    0|71.2833|       C|\n",
      "|       1|     3|female|26.0|    0|    0|  7.925|       S|\n",
      "|       1|     1|female|35.0|    1|    0|   53.1|       S|\n",
      "+--------+------+------+----+-----+-----+-------+--------+\n",
      "only showing top 4 rows\n",
      "\n"
     ]
    }
   ],
   "source": [
    "df_train.show(4)"
   ]
  },
  {
   "cell_type": "markdown",
   "id": "c5e1769a",
   "metadata": {},
   "source": [
    "## select multiple columns"
   ]
  },
  {
   "cell_type": "code",
   "execution_count": 8,
   "id": "31582d8c",
   "metadata": {},
   "outputs": [
    {
     "name": "stdout",
     "output_type": "stream",
     "text": [
      "+------+------+\n",
      "|   Sex|Pclass|\n",
      "+------+------+\n",
      "|  male|     3|\n",
      "|female|     1|\n",
      "|female|     3|\n",
      "+------+------+\n",
      "only showing top 3 rows\n",
      "\n"
     ]
    }
   ],
   "source": [
    "df_train.select('Sex','Pclass').show(3)"
   ]
  },
  {
   "cell_type": "markdown",
   "id": "0dadabbb",
   "metadata": {},
   "source": [
    "## distinct"
   ]
  },
  {
   "cell_type": "code",
   "execution_count": 9,
   "id": "50511e16",
   "metadata": {},
   "outputs": [
    {
     "name": "stdout",
     "output_type": "stream",
     "text": [
      "+------+\n",
      "|   Sex|\n",
      "+------+\n",
      "|female|\n",
      "|  male|\n",
      "+------+\n",
      "\n"
     ]
    }
   ],
   "source": [
    "df_train.select('Sex').distinct().show()"
   ]
  },
  {
   "cell_type": "code",
   "execution_count": 10,
   "id": "77f246d4",
   "metadata": {},
   "outputs": [
    {
     "name": "stdout",
     "output_type": "stream",
     "text": [
      "+------+\n",
      "|Pclass|\n",
      "+------+\n",
      "|     1|\n",
      "|     3|\n",
      "|     2|\n",
      "+------+\n",
      "\n"
     ]
    }
   ],
   "source": [
    "df_train.select('Pclass').distinct().show()"
   ]
  },
  {
   "cell_type": "code",
   "execution_count": 11,
   "id": "21b67247",
   "metadata": {},
   "outputs": [
    {
     "name": "stdout",
     "output_type": "stream",
     "text": [
      "Survived 2\n",
      "+--------+\n",
      "|Survived|\n",
      "+--------+\n",
      "|       1|\n",
      "|       0|\n",
      "+--------+\n",
      "\n",
      "None\n",
      "Pclass 3\n",
      "+------+\n",
      "|Pclass|\n",
      "+------+\n",
      "|     1|\n",
      "|     3|\n",
      "|     2|\n",
      "+------+\n",
      "\n",
      "None\n",
      "Sex 2\n",
      "+------+\n",
      "|   Sex|\n",
      "+------+\n",
      "|female|\n",
      "|  male|\n",
      "+------+\n",
      "\n",
      "None\n",
      "Age 89\n",
      "+----+\n",
      "| Age|\n",
      "+----+\n",
      "| 8.0|\n",
      "|70.0|\n",
      "| 7.0|\n",
      "|20.5|\n",
      "|49.0|\n",
      "|29.0|\n",
      "|40.5|\n",
      "|64.0|\n",
      "|47.0|\n",
      "|42.0|\n",
      "|24.5|\n",
      "|44.0|\n",
      "|35.0|\n",
      "|null|\n",
      "|62.0|\n",
      "|18.0|\n",
      "|80.0|\n",
      "|34.5|\n",
      "|39.0|\n",
      "| 1.0|\n",
      "+----+\n",
      "only showing top 20 rows\n",
      "\n",
      "None\n",
      "SibSp 7\n",
      "+-----+\n",
      "|SibSp|\n",
      "+-----+\n",
      "|    1|\n",
      "|    3|\n",
      "|    5|\n",
      "|    4|\n",
      "|    8|\n",
      "|    2|\n",
      "|    0|\n",
      "+-----+\n",
      "\n",
      "None\n",
      "Parch 7\n",
      "+-----+\n",
      "|Parch|\n",
      "+-----+\n",
      "|    1|\n",
      "|    6|\n",
      "|    3|\n",
      "|    5|\n",
      "|    4|\n",
      "|    2|\n",
      "|    0|\n",
      "+-----+\n",
      "\n",
      "None\n",
      "Fare 248\n",
      "+-------+\n",
      "|   Fare|\n",
      "+-------+\n",
      "|   15.5|\n",
      "| 133.65|\n",
      "| 8.5167|\n",
      "| 29.125|\n",
      "|10.4625|\n",
      "| 7.0458|\n",
      "|  9.475|\n",
      "|11.1333|\n",
      "|    0.0|\n",
      "| 7.7333|\n",
      "|   73.5|\n",
      "|77.2875|\n",
      "|   15.9|\n",
      "|   11.5|\n",
      "| 8.6833|\n",
      "|41.5792|\n",
      "|    9.5|\n",
      "| 8.4042|\n",
      "|14.4542|\n",
      "|14.4583|\n",
      "+-------+\n",
      "only showing top 20 rows\n",
      "\n",
      "None\n",
      "Embarked 4\n",
      "+--------+\n",
      "|Embarked|\n",
      "+--------+\n",
      "|       Q|\n",
      "|    null|\n",
      "|       C|\n",
      "|       S|\n",
      "+--------+\n",
      "\n",
      "None\n"
     ]
    }
   ],
   "source": [
    "for i in df_train.columns:\n",
    "    print(i , df_train.select(i).distinct().count())\n",
    "    print(df_train.select(i).distinct().show())"
   ]
  },
  {
   "cell_type": "code",
   "execution_count": 12,
   "id": "c19e7bbe",
   "metadata": {},
   "outputs": [
    {
     "name": "stdout",
     "output_type": "stream",
     "text": [
      "+--------+------+---+---+-----+-----+----+--------+\n",
      "|Survived|Pclass|Sex|Age|SibSp|Parch|Fare|Embarked|\n",
      "+--------+------+---+---+-----+-----+----+--------+\n",
      "|       2|     3|  2| 88|    7|    7| 248|       3|\n",
      "+--------+------+---+---+-----+-----+----+--------+\n",
      "\n"
     ]
    }
   ],
   "source": [
    "from pyspark.sql.functions import col, countDistinct\n",
    "\n",
    "df_train.agg(*(countDistinct(col(c)).alias(c) for c in df_train.columns)).show()"
   ]
  },
  {
   "cell_type": "code",
   "execution_count": 13,
   "id": "d346947d",
   "metadata": {},
   "outputs": [
    {
     "name": "stdout",
     "output_type": "stream",
     "text": [
      "+-------------------+\n",
      "|count(DISTINCT Sex)|\n",
      "+-------------------+\n",
      "|                  2|\n",
      "+-------------------+\n",
      "\n"
     ]
    }
   ],
   "source": [
    "df_train.select(countDistinct(col(\"Sex\"))).show()"
   ]
  },
  {
   "cell_type": "code",
   "execution_count": 14,
   "id": "5426a812",
   "metadata": {},
   "outputs": [
    {
     "data": {
      "text/plain": [
       "2"
      ]
     },
     "execution_count": 14,
     "metadata": {},
     "output_type": "execute_result"
    }
   ],
   "source": [
    "df_train.select('Sex').distinct().count()"
   ]
  },
  {
   "cell_type": "markdown",
   "id": "8cec8b94",
   "metadata": {},
   "source": [
    "## value_counts"
   ]
  },
  {
   "cell_type": "code",
   "execution_count": 15,
   "id": "bec24dd4",
   "metadata": {},
   "outputs": [
    {
     "name": "stdout",
     "output_type": "stream",
     "text": [
      "+------+-----+\n",
      "|Pclass|count|\n",
      "+------+-----+\n",
      "|     1|  216|\n",
      "|     2|  184|\n",
      "|     3|  491|\n",
      "+------+-----+\n",
      "\n"
     ]
    }
   ],
   "source": [
    "df_train.groupBy('Pclass').count().orderBy('Pclass').show()"
   ]
  },
  {
   "cell_type": "code",
   "execution_count": 16,
   "id": "e14abb7b",
   "metadata": {},
   "outputs": [
    {
     "name": "stdout",
     "output_type": "stream",
     "text": [
      "+--------+-----+\n",
      "|Embarked|count|\n",
      "+--------+-----+\n",
      "|    null|    2|\n",
      "|       Q|   77|\n",
      "|       C|  168|\n",
      "|       S|  644|\n",
      "+--------+-----+\n",
      "\n"
     ]
    }
   ],
   "source": [
    "df_train.groupBy('Embarked').count().orderBy('count').show()"
   ]
  },
  {
   "cell_type": "code",
   "execution_count": 17,
   "id": "4f92b3ae",
   "metadata": {},
   "outputs": [
    {
     "name": "stdout",
     "output_type": "stream",
     "text": [
      "root\n",
      " |-- Survived: integer (nullable = true)\n",
      " |-- Pclass: integer (nullable = true)\n",
      " |-- Sex: string (nullable = true)\n",
      " |-- Age: double (nullable = true)\n",
      " |-- SibSp: integer (nullable = true)\n",
      " |-- Parch: integer (nullable = true)\n",
      " |-- Fare: double (nullable = true)\n",
      " |-- Embarked: string (nullable = true)\n",
      "\n"
     ]
    }
   ],
   "source": [
    "df_train.printSchema()"
   ]
  },
  {
   "cell_type": "code",
   "execution_count": 18,
   "id": "695be3cf",
   "metadata": {},
   "outputs": [
    {
     "name": "stdout",
     "output_type": "stream",
     "text": [
      "+--------+------+---+---+-----+-----+----+--------+\n",
      "|Survived|Pclass|Sex|Age|SibSp|Parch|Fare|Embarked|\n",
      "+--------+------+---+---+-----+-----+----+--------+\n",
      "|       0|     0|  0|177|    0|    0|   0|       2|\n",
      "+--------+------+---+---+-----+-----+----+--------+\n",
      "\n"
     ]
    }
   ],
   "source": [
    "from pyspark.sql.functions import col,isnan,when,count\n",
    "df_train.select([count(when(isnan(c) | col(c).isNull(), c)).alias(c) for c in df_train.columns]\n",
    "   ).show()"
   ]
  },
  {
   "cell_type": "code",
   "execution_count": 19,
   "id": "0495b125",
   "metadata": {},
   "outputs": [
    {
     "name": "stdout",
     "output_type": "stream",
     "text": [
      "+------------------+-----------------+----+-----------------+------------------+-------------------+----------------+--------+\n",
      "|          Survived|           Pclass| Sex|              Age|             SibSp|              Parch|            Fare|Embarked|\n",
      "+------------------+-----------------+----+-----------------+------------------+-------------------+----------------+--------+\n",
      "|0.3838383838383838|2.308641975308642|null|29.69911764705882|0.5230078563411896|0.38159371492704824|32.2042079685746|    null|\n",
      "+------------------+-----------------+----+-----------------+------------------+-------------------+----------------+--------+\n",
      "\n"
     ]
    }
   ],
   "source": [
    "from pyspark.sql.functions import mean \n",
    "\n",
    "df_train.select(*(mean(col(c)).alias(c)  for c in df_train.columns)).show()"
   ]
  },
  {
   "cell_type": "code",
   "execution_count": 20,
   "id": "13cbbf2a",
   "metadata": {},
   "outputs": [],
   "source": [
    "df_train_summ= df_train.describe()"
   ]
  },
  {
   "cell_type": "code",
   "execution_count": 21,
   "id": "a55384a3",
   "metadata": {},
   "outputs": [
    {
     "name": "stdout",
     "output_type": "stream",
     "text": [
      "+-------+------------------+\n",
      "|Summary|            Pclass|\n",
      "+-------+------------------+\n",
      "|  count|               891|\n",
      "|   mean| 2.308641975308642|\n",
      "| stddev|0.8360712409770491|\n",
      "|    min|                 1|\n",
      "|    max|                 3|\n",
      "+-------+------------------+\n",
      "\n"
     ]
    }
   ],
   "source": [
    "df_train_summ.select('Summary','Pclass').show()"
   ]
  },
  {
   "cell_type": "code",
   "execution_count": 22,
   "id": "76c5460a",
   "metadata": {},
   "outputs": [
    {
     "name": "stdout",
     "output_type": "stream",
     "text": [
      "+-------+------------------+\n",
      "|Summary|               Age|\n",
      "+-------+------------------+\n",
      "|  count|               714|\n",
      "|   mean| 29.69911764705882|\n",
      "| stddev|14.526497332334035|\n",
      "|    min|              0.42|\n",
      "|    max|              80.0|\n",
      "+-------+------------------+\n",
      "\n"
     ]
    }
   ],
   "source": [
    "df_train_summ.select('Summary','Age').show()"
   ]
  },
  {
   "cell_type": "code",
   "execution_count": 23,
   "id": "29ad24df",
   "metadata": {},
   "outputs": [
    {
     "data": {
      "text/plain": [
       "[('Survived', 'int'),\n",
       " ('Pclass', 'int'),\n",
       " ('Sex', 'string'),\n",
       " ('Age', 'double'),\n",
       " ('SibSp', 'int'),\n",
       " ('Parch', 'int'),\n",
       " ('Fare', 'double'),\n",
       " ('Embarked', 'string')]"
      ]
     },
     "execution_count": 23,
     "metadata": {},
     "output_type": "execute_result"
    }
   ],
   "source": [
    "df_train.dtypes"
   ]
  },
  {
   "cell_type": "code",
   "execution_count": 24,
   "id": "93efe68f",
   "metadata": {},
   "outputs": [
    {
     "data": {
      "text/plain": [
       "891"
      ]
     },
     "execution_count": 24,
     "metadata": {},
     "output_type": "execute_result"
    }
   ],
   "source": [
    "df_train.count()"
   ]
  },
  {
   "cell_type": "markdown",
   "id": "f66eb3b8",
   "metadata": {},
   "source": [
    "## Null values in columns -- Handle Missing Values"
   ]
  },
  {
   "cell_type": "code",
   "execution_count": 25,
   "id": "60839940",
   "metadata": {},
   "outputs": [],
   "source": [
    "null_cols = df_train.select([c for c in df_train.columns if df_train.filter(col(c).isNull()).count() > 0]).columns"
   ]
  },
  {
   "cell_type": "code",
   "execution_count": 26,
   "id": "af4c6a7b",
   "metadata": {},
   "outputs": [
    {
     "data": {
      "text/plain": [
       "['Age', 'Embarked']"
      ]
     },
     "execution_count": 26,
     "metadata": {},
     "output_type": "execute_result"
    }
   ],
   "source": [
    "null_cols"
   ]
  },
  {
   "cell_type": "code",
   "execution_count": 27,
   "id": "28f8581c",
   "metadata": {},
   "outputs": [],
   "source": [
    "df_train = df_train.fillna({'Embarked':'S'})"
   ]
  },
  {
   "cell_type": "code",
   "execution_count": 28,
   "id": "3b5fa591",
   "metadata": {},
   "outputs": [],
   "source": [
    "null_cols = df_train.select([c for c in df_train.columns if df_train.filter(col(c).isNull()).count() > 0]).columns"
   ]
  },
  {
   "cell_type": "code",
   "execution_count": 29,
   "id": "68dbbad8",
   "metadata": {},
   "outputs": [
    {
     "data": {
      "text/plain": [
       "['Age']"
      ]
     },
     "execution_count": 29,
     "metadata": {},
     "output_type": "execute_result"
    }
   ],
   "source": [
    "null_cols"
   ]
  },
  {
   "cell_type": "markdown",
   "id": "4cee862e",
   "metadata": {},
   "source": [
    "## Imputer "
   ]
  },
  {
   "cell_type": "code",
   "execution_count": 30,
   "id": "e05f8709",
   "metadata": {},
   "outputs": [],
   "source": [
    "from pyspark.ml.feature import Imputer\n",
    "imputer = Imputer(inputCols = null_cols,outputCols = null_cols)"
   ]
  },
  {
   "cell_type": "code",
   "execution_count": 31,
   "id": "3165507f",
   "metadata": {},
   "outputs": [],
   "source": [
    "df_new = imputer.fit(df_train).transform(df_train)\n"
   ]
  },
  {
   "cell_type": "code",
   "execution_count": 32,
   "id": "1ca076f7",
   "metadata": {},
   "outputs": [
    {
     "name": "stdout",
     "output_type": "stream",
     "text": [
      "+--------+------+---+---+-----+-----+----+--------+\n",
      "|Survived|Pclass|Sex|Age|SibSp|Parch|Fare|Embarked|\n",
      "+--------+------+---+---+-----+-----+----+--------+\n",
      "|       0|     0|  0|  0|    0|    0|   0|       0|\n",
      "+--------+------+---+---+-----+-----+----+--------+\n",
      "\n"
     ]
    }
   ],
   "source": [
    "from pyspark.sql.functions import col,isnan,when,count\n",
    "df_new.select([count(when(isnan(c) | col(c).isNull(), c)).alias(c) for c in df_train.columns]\n",
    "   ).show()"
   ]
  },
  {
   "cell_type": "code",
   "execution_count": 34,
   "id": "6a0f091a",
   "metadata": {},
   "outputs": [
    {
     "name": "stdout",
     "output_type": "stream",
     "text": [
      "+--------+------+------+----+-----+-----+-------+--------+\n",
      "|Survived|Pclass|   Sex| Age|SibSp|Parch|   Fare|Embarked|\n",
      "+--------+------+------+----+-----+-----+-------+--------+\n",
      "|       0|     3|  male|22.0|    1|    0|   7.25|       S|\n",
      "|       1|     1|female|38.0|    1|    0|71.2833|       C|\n",
      "|       1|     3|female|26.0|    0|    0|  7.925|       S|\n",
      "|       1|     1|female|35.0|    1|    0|   53.1|       S|\n",
      "+--------+------+------+----+-----+-----+-------+--------+\n",
      "only showing top 4 rows\n",
      "\n"
     ]
    }
   ],
   "source": [
    "df_new.show(4)"
   ]
  },
  {
   "cell_type": "markdown",
   "id": "129bd155",
   "metadata": {},
   "source": [
    "## Categorical - One hot encoding"
   ]
  },
  {
   "cell_type": "code",
   "execution_count": 38,
   "id": "33754e4b",
   "metadata": {},
   "outputs": [
    {
     "name": "stdout",
     "output_type": "stream",
     "text": [
      "+--------+------+------+-----------------+-----+-----+-------+--------+-------+------------+\n",
      "|Survived|Pclass|   Sex|              Age|SibSp|Parch|   Fare|Embarked|Num_Sex|NUM_Embarked|\n",
      "+--------+------+------+-----------------+-----+-----+-------+--------+-------+------------+\n",
      "|       0|     3|  male|             22.0|    1|    0|   7.25|       S|    0.0|         0.0|\n",
      "|       1|     1|female|             38.0|    1|    0|71.2833|       C|    1.0|         1.0|\n",
      "|       1|     3|female|             26.0|    0|    0|  7.925|       S|    1.0|         0.0|\n",
      "|       1|     1|female|             35.0|    1|    0|   53.1|       S|    1.0|         0.0|\n",
      "|       0|     3|  male|             35.0|    0|    0|   8.05|       S|    0.0|         0.0|\n",
      "|       0|     3|  male|29.69911764705882|    0|    0| 8.4583|       Q|    0.0|         2.0|\n",
      "|       0|     1|  male|             54.0|    0|    0|51.8625|       S|    0.0|         0.0|\n",
      "|       0|     3|  male|              2.0|    3|    1| 21.075|       S|    0.0|         0.0|\n",
      "|       1|     3|female|             27.0|    0|    2|11.1333|       S|    1.0|         0.0|\n",
      "|       1|     2|female|             14.0|    1|    0|30.0708|       C|    1.0|         1.0|\n",
      "|       1|     3|female|              4.0|    1|    1|   16.7|       S|    1.0|         0.0|\n",
      "|       1|     1|female|             58.0|    0|    0|  26.55|       S|    1.0|         0.0|\n",
      "|       0|     3|  male|             20.0|    0|    0|   8.05|       S|    0.0|         0.0|\n",
      "|       0|     3|  male|             39.0|    1|    5| 31.275|       S|    0.0|         0.0|\n",
      "|       0|     3|female|             14.0|    0|    0| 7.8542|       S|    1.0|         0.0|\n",
      "|       1|     2|female|             55.0|    0|    0|   16.0|       S|    1.0|         0.0|\n",
      "|       0|     3|  male|              2.0|    4|    1| 29.125|       Q|    0.0|         2.0|\n",
      "|       1|     2|  male|29.69911764705882|    0|    0|   13.0|       S|    0.0|         0.0|\n",
      "|       0|     3|female|             31.0|    1|    0|   18.0|       S|    1.0|         0.0|\n",
      "|       1|     3|female|29.69911764705882|    0|    0|  7.225|       C|    1.0|         1.0|\n",
      "+--------+------+------+-----------------+-----+-----+-------+--------+-------+------------+\n",
      "only showing top 20 rows\n",
      "\n"
     ]
    }
   ],
   "source": [
    "from pyspark.ml.feature import StringIndexer\n",
    "indexer = StringIndexer(inputCols=['Sex','Embarked'], outputCols=['Num_Sex','NUM_Embarked'])\n",
    "df_indexed = indexer.fit(df_new).transform(df_new)\n",
    "df_indexed.show()"
   ]
  },
  {
   "cell_type": "code",
   "execution_count": 39,
   "id": "b745f996",
   "metadata": {},
   "outputs": [],
   "source": [
    "df_indexed = df_indexed.drop('Sex','Embarked')"
   ]
  },
  {
   "cell_type": "code",
   "execution_count": 40,
   "id": "2eb674a2",
   "metadata": {},
   "outputs": [
    {
     "name": "stdout",
     "output_type": "stream",
     "text": [
      "+--------+------+-----------------+-----+-----+-------+-------+------------+\n",
      "|Survived|Pclass|              Age|SibSp|Parch|   Fare|Num_Sex|NUM_Embarked|\n",
      "+--------+------+-----------------+-----+-----+-------+-------+------------+\n",
      "|       0|     3|             22.0|    1|    0|   7.25|    0.0|         0.0|\n",
      "|       1|     1|             38.0|    1|    0|71.2833|    1.0|         1.0|\n",
      "|       1|     3|             26.0|    0|    0|  7.925|    1.0|         0.0|\n",
      "|       1|     1|             35.0|    1|    0|   53.1|    1.0|         0.0|\n",
      "|       0|     3|             35.0|    0|    0|   8.05|    0.0|         0.0|\n",
      "|       0|     3|29.69911764705882|    0|    0| 8.4583|    0.0|         2.0|\n",
      "+--------+------+-----------------+-----+-----+-------+-------+------------+\n",
      "only showing top 6 rows\n",
      "\n"
     ]
    }
   ],
   "source": [
    "df_indexed.show(6)"
   ]
  },
  {
   "cell_type": "code",
   "execution_count": 45,
   "id": "ae2abe2b",
   "metadata": {},
   "outputs": [
    {
     "name": "stdout",
     "output_type": "stream",
     "text": [
      "+--------+-----+\n",
      "|Survived|count|\n",
      "+--------+-----+\n",
      "|       1|  342|\n",
      "|       0|  549|\n",
      "+--------+-----+\n",
      "\n"
     ]
    }
   ],
   "source": [
    "df_indexed.select('Survived').groupBy('Survived').count().show()"
   ]
  },
  {
   "cell_type": "code",
   "execution_count": 46,
   "id": "9df9065b",
   "metadata": {},
   "outputs": [],
   "source": [
    "train, test = df_indexed.randomSplit([0.8, 0.2], seed=12345)"
   ]
  },
  {
   "cell_type": "code",
   "execution_count": 48,
   "id": "19ddb445",
   "metadata": {},
   "outputs": [
    {
     "data": {
      "text/plain": [
       "(721, 170)"
      ]
     },
     "execution_count": 48,
     "metadata": {},
     "output_type": "execute_result"
    }
   ],
   "source": [
    "train.count(),test.count()"
   ]
  },
  {
   "cell_type": "code",
   "execution_count": 49,
   "id": "8e04553a",
   "metadata": {},
   "outputs": [
    {
     "name": "stdout",
     "output_type": "stream",
     "text": [
      "+--------+------+----+-----+-----+------+-------+------------+\n",
      "|Survived|Pclass| Age|SibSp|Parch|  Fare|Num_Sex|NUM_Embarked|\n",
      "+--------+------+----+-----+-----+------+-------+------------+\n",
      "|       0|     1| 2.0|    1|    2|151.55|    1.0|         0.0|\n",
      "|       0|     1|18.0|    1|    0| 108.9|    0.0|         1.0|\n",
      "|       0|     1|19.0|    1|    0|  53.1|    0.0|         0.0|\n",
      "|       0|     1|19.0|    3|    2| 263.0|    0.0|         0.0|\n",
      "+--------+------+----+-----+-----+------+-------+------------+\n",
      "only showing top 4 rows\n",
      "\n"
     ]
    }
   ],
   "source": [
    "train.show(4)"
   ]
  },
  {
   "cell_type": "code",
   "execution_count": 50,
   "id": "953cf2c7",
   "metadata": {},
   "outputs": [
    {
     "data": {
      "text/plain": [
       "['Survived',\n",
       " 'Pclass',\n",
       " 'Age',\n",
       " 'SibSp',\n",
       " 'Parch',\n",
       " 'Fare',\n",
       " 'Num_Sex',\n",
       " 'NUM_Embarked']"
      ]
     },
     "execution_count": 50,
     "metadata": {},
     "output_type": "execute_result"
    }
   ],
   "source": [
    "train.columns"
   ]
  },
  {
   "cell_type": "markdown",
   "id": "5de11757",
   "metadata": {},
   "source": [
    "## Use of vector assembler"
   ]
  },
  {
   "cell_type": "code",
   "execution_count": 53,
   "id": "3200faf1",
   "metadata": {},
   "outputs": [],
   "source": [
    "####https://www.youtube.com/watch?v=YpI4_RrargQ\n",
    "from pyspark.ml.linalg import Vectors\n",
    "from pyspark.ml.feature import VectorAssembler\n",
    "\n",
    "featureassembler=VectorAssembler(inputCols=[ 'Pclass',\n",
    " 'Age',\n",
    " 'SibSp',\n",
    " 'Parch',\n",
    " 'Fare',\n",
    " 'Num_Sex',\n",
    " 'NUM_Embarked'],outputCol=\"features\")\n",
    "\n",
    "output=featureassembler.transform(df_indexed)"
   ]
  },
  {
   "cell_type": "code",
   "execution_count": 56,
   "id": "d92f1ba1",
   "metadata": {},
   "outputs": [
    {
     "name": "stdout",
     "output_type": "stream",
     "text": [
      "+----------------------------------------------+--------+\n",
      "|features                                      |Survived|\n",
      "+----------------------------------------------+--------+\n",
      "|[3.0,22.0,1.0,0.0,7.25,0.0,0.0]               |0       |\n",
      "|[1.0,38.0,1.0,0.0,71.2833,1.0,1.0]            |1       |\n",
      "|[3.0,26.0,0.0,0.0,7.925,1.0,0.0]              |1       |\n",
      "|[1.0,35.0,1.0,0.0,53.1,1.0,0.0]               |1       |\n",
      "|(7,[0,1,4],[3.0,35.0,8.05])                   |0       |\n",
      "|[3.0,29.69911764705882,0.0,0.0,8.4583,0.0,2.0]|0       |\n",
      "|(7,[0,1,4],[1.0,54.0,51.8625])                |0       |\n",
      "|[3.0,2.0,3.0,1.0,21.075,0.0,0.0]              |0       |\n",
      "|[3.0,27.0,0.0,2.0,11.1333,1.0,0.0]            |1       |\n",
      "|[2.0,14.0,1.0,0.0,30.0708,1.0,1.0]            |1       |\n",
      "|[3.0,4.0,1.0,1.0,16.7,1.0,0.0]                |1       |\n",
      "|[1.0,58.0,0.0,0.0,26.55,1.0,0.0]              |1       |\n",
      "|(7,[0,1,4],[3.0,20.0,8.05])                   |0       |\n",
      "|[3.0,39.0,1.0,5.0,31.275,0.0,0.0]             |0       |\n",
      "|[3.0,14.0,0.0,0.0,7.8542,1.0,0.0]             |0       |\n",
      "|[2.0,55.0,0.0,0.0,16.0,1.0,0.0]               |1       |\n",
      "|[3.0,2.0,4.0,1.0,29.125,0.0,2.0]              |0       |\n",
      "|(7,[0,1,4],[2.0,29.69911764705882,13.0])      |1       |\n",
      "|[3.0,31.0,1.0,0.0,18.0,1.0,0.0]               |0       |\n",
      "|[3.0,29.69911764705882,0.0,0.0,7.225,1.0,1.0] |1       |\n",
      "+----------------------------------------------+--------+\n",
      "only showing top 20 rows\n",
      "\n"
     ]
    }
   ],
   "source": [
    "output.select('features','Survived').show(truncate=False)"
   ]
  },
  {
   "cell_type": "code",
   "execution_count": 58,
   "id": "c9ebd85c",
   "metadata": {},
   "outputs": [],
   "source": [
    "all1 = output.select('features','Survived')"
   ]
  },
  {
   "cell_type": "code",
   "execution_count": 59,
   "id": "4df4566e",
   "metadata": {},
   "outputs": [
    {
     "name": "stdout",
     "output_type": "stream",
     "text": [
      "+--------------------+--------+\n",
      "|            features|Survived|\n",
      "+--------------------+--------+\n",
      "|[3.0,22.0,1.0,0.0...|       0|\n",
      "|[1.0,38.0,1.0,0.0...|       1|\n",
      "+--------------------+--------+\n",
      "only showing top 2 rows\n",
      "\n"
     ]
    }
   ],
   "source": [
    "all.show(2)"
   ]
  },
  {
   "cell_type": "code",
   "execution_count": 60,
   "id": "5a9bc02e",
   "metadata": {},
   "outputs": [],
   "source": [
    "train, test = all1.randomSplit([0.8, 0.2], seed=12345)"
   ]
  },
  {
   "cell_type": "code",
   "execution_count": 62,
   "id": "d151ec33",
   "metadata": {},
   "outputs": [
    {
     "name": "stdout",
     "output_type": "stream",
     "text": [
      "+--------------------+--------+\n",
      "|            features|Survived|\n",
      "+--------------------+--------+\n",
      "|(7,[0,1],[1.0,29....|       0|\n",
      "|(7,[0,1],[1.0,29....|       0|\n",
      "|(7,[0,1],[1.0,38.0])|       0|\n",
      "|(7,[0,1],[1.0,39.0])|       0|\n",
      "|(7,[0,1],[1.0,40.0])|       0|\n",
      "|(7,[0,1],[2.0,29....|       0|\n",
      "|(7,[0,1],[2.0,29....|       0|\n",
      "|(7,[0,1],[2.0,29....|       0|\n",
      "|(7,[0,1],[2.0,29....|       0|\n",
      "|(7,[0,1],[2.0,29....|       0|\n",
      "|(7,[0,1],[3.0,19.0])|       0|\n",
      "|(7,[0,1],[3.0,25.0])|       1|\n",
      "|(7,[0,1],[3.0,36.0])|       0|\n",
      "|(7,[0,1],[3.0,49.0])|       0|\n",
      "|(7,[0,1,4],[1.0,2...|       1|\n",
      "|(7,[0,1,4],[1.0,2...|       1|\n",
      "|(7,[0,1,4],[1.0,2...|       1|\n",
      "|(7,[0,1,4],[1.0,2...|       0|\n",
      "|(7,[0,1,4],[1.0,2...|       0|\n",
      "|(7,[0,1,4],[1.0,2...|       0|\n",
      "+--------------------+--------+\n",
      "only showing top 20 rows\n",
      "\n"
     ]
    }
   ],
   "source": [
    "train.show()"
   ]
  },
  {
   "cell_type": "code",
   "execution_count": 63,
   "id": "645f9896",
   "metadata": {},
   "outputs": [
    {
     "name": "stdout",
     "output_type": "stream",
     "text": [
      "Coefficients: [-1.1400425189529793,-0.038663551985038465,-0.2511694284945116,-0.1120636915344975,0.0013273518233011317,2.795343649947557,0.3144913546197433]\n",
      "Intercept: 2.020299945225205\n"
     ]
    }
   ],
   "source": [
    "from pyspark.ml.classification import LogisticRegression\n",
    "\n",
    "lr = LogisticRegression(featuresCol='features', labelCol='Survived')\n",
    "lrModel = lr.fit(train)\n",
    "print(\"Coefficients: \" + str(lrModel.coefficients))\n",
    "print(\"Intercept: \" + str(lrModel.intercept))\n"
   ]
  },
  {
   "cell_type": "code",
   "execution_count": 64,
   "id": "fed5ca80",
   "metadata": {},
   "outputs": [],
   "source": [
    "pred_results=lrModel.evaluate(test)"
   ]
  },
  {
   "cell_type": "code",
   "execution_count": 70,
   "id": "66d7def0",
   "metadata": {},
   "outputs": [
    {
     "name": "stdout",
     "output_type": "stream",
     "text": [
      "+--------------------+--------+--------------------+--------------------+----------+\n",
      "|            features|Survived|       rawPrediction|         probability|prediction|\n",
      "+--------------------+--------+--------------------+--------------------+----------+\n",
      "|(7,[0,1],[2.0,29....|       0|[1.40805847173758...|[0.80345953304365...|       0.0|\n",
      "|(7,[0,1,4],[1.0,2...|       1|[0.22819539808557...|[0.55680257249115...|       0.0|\n",
      "|(7,[0,1,4],[1.0,2...|       1|[0.22753172217392...|[0.55663878871657...|       0.0|\n",
      "|(7,[0,1,4],[1.0,2...|       0|[0.21173623547663...|[0.55273717880580...|       0.0|\n",
      "|(7,[0,1,4],[1.0,3...|       1|[0.43807413214909...|[0.60780003943474...|       0.0|\n",
      "|(7,[0,1,4],[1.0,4...|       0|[0.86790722221292...|[0.70431004796067...|       0.0|\n",
      "|(7,[0,1,4],[1.0,5...|       1|[1.08976304633909...|[0.74833709906163...|       0.0|\n",
      "|(7,[0,1,4],[2.0,1...|       0|[0.85816866939881...|[0.70227789494787...|       0.0|\n",
      "|(7,[0,1,4],[2.0,3...|       0|[1.40243607852899...|[0.80257017287845...|       0.0|\n",
      "|(7,[0,1,4],[2.0,3...|       1|[1.44109963051403...|[0.80862487776675...|       0.0|\n",
      "|(7,[0,1,4],[2.0,3...|       0|[1.55709028646914...|[0.82593543147324...|       0.0|\n",
      "|(7,[0,1,4],[2.0,4...|       0|[2.09838001425968...|[0.89074562503091...|       0.0|\n",
      "|(7,[0,1,4],[2.0,5...|       0|[2.25237054628818...|[0.90485481749882...|       0.0|\n",
      "|(7,[0,1,4],[2.0,5...|       0|[2.52301541018345...|[0.92573961786027...|       0.0|\n",
      "|(7,[0,1,4],[2.0,7...|       0|[2.95229653748878...|[0.95037191704482...|       0.0|\n",
      "|(7,[0,1,4],[3.0,1...|       0|[2.00775926121677...|[0.88160934654464...|       0.0|\n",
      "|(7,[0,1,4],[3.0,1...|       0|[2.00621063984452...|[0.88144761471660...|       0.0|\n",
      "|(7,[0,1,4],[3.0,1...|       0|[2.04560981021004...|[0.88550326227424...|       0.0|\n",
      "|(7,[0,1,4],[3.0,1...|       0|[2.08545138693825...|[0.88948106805164...|       0.0|\n",
      "|(7,[0,1,4],[3.0,1...|       1|[2.08508636518685...|[0.88944517966993...|       0.0|\n",
      "+--------------------+--------+--------------------+--------------------+----------+\n",
      "only showing top 20 rows\n",
      "\n"
     ]
    }
   ],
   "source": [
    "pred_results.predictions.show(20)"
   ]
  },
  {
   "cell_type": "code",
   "execution_count": 78,
   "id": "e06790e5",
   "metadata": {},
   "outputs": [],
   "source": [
    "eval_df = pred_results.predictions.select('Survived','prediction')"
   ]
  },
  {
   "cell_type": "code",
   "execution_count": 80,
   "id": "44fab10d",
   "metadata": {},
   "outputs": [
    {
     "name": "stdout",
     "output_type": "stream",
     "text": [
      "+--------+----------+\n",
      "|Survived|prediction|\n",
      "+--------+----------+\n",
      "|       0|       0.0|\n",
      "|       1|       0.0|\n",
      "+--------+----------+\n",
      "only showing top 2 rows\n",
      "\n"
     ]
    }
   ],
   "source": [
    "eval_df.show(2)"
   ]
  },
  {
   "cell_type": "markdown",
   "id": "1178ab2d",
   "metadata": {},
   "source": [
    "## Accuracy of test data"
   ]
  },
  {
   "cell_type": "code",
   "execution_count": 82,
   "id": "46cab162",
   "metadata": {},
   "outputs": [
    {
     "name": "stdout",
     "output_type": "stream",
     "text": [
      "48 88\n"
     ]
    }
   ],
   "source": [
    "tp  = eval_df[(eval_df.Survived == 1) & (eval_df.prediction == 1)].count()\n",
    "tn  = eval_df[(eval_df.Survived == 0) & (eval_df.prediction == 0)].count()\n",
    "print(tp,tn)"
   ]
  },
  {
   "cell_type": "code",
   "execution_count": 85,
   "id": "e8a0a514",
   "metadata": {},
   "outputs": [
    {
     "name": "stdout",
     "output_type": "stream",
     "text": [
      "80.0\n"
     ]
    }
   ],
   "source": [
    "accuracy = float((tp+tn)/eval_df.count())\n",
    "print(accuracy*100)"
   ]
  },
  {
   "cell_type": "code",
   "execution_count": 72,
   "id": "369e2ce6",
   "metadata": {},
   "outputs": [
    {
     "name": "stdout",
     "output_type": "stream",
     "text": [
      "+------------------------------------------+\n",
      "|features                                  |\n",
      "+------------------------------------------+\n",
      "|(7,[0,1],[1.0,29.69911764705882])         |\n",
      "|(7,[0,1],[1.0,29.69911764705882])         |\n",
      "|(7,[0,1],[1.0,38.0])                      |\n",
      "|(7,[0,1],[1.0,39.0])                      |\n",
      "|(7,[0,1],[1.0,40.0])                      |\n",
      "|(7,[0,1],[2.0,29.69911764705882])         |\n",
      "|(7,[0,1],[2.0,29.69911764705882])         |\n",
      "|(7,[0,1],[2.0,29.69911764705882])         |\n",
      "|(7,[0,1],[2.0,29.69911764705882])         |\n",
      "|(7,[0,1],[2.0,29.69911764705882])         |\n",
      "|(7,[0,1],[3.0,19.0])                      |\n",
      "|(7,[0,1],[3.0,25.0])                      |\n",
      "|(7,[0,1],[3.0,36.0])                      |\n",
      "|(7,[0,1],[3.0,49.0])                      |\n",
      "|(7,[0,1,4],[1.0,27.0,30.5])               |\n",
      "|(7,[0,1,4],[1.0,28.0,26.55])              |\n",
      "|(7,[0,1,4],[1.0,28.0,35.5])               |\n",
      "|(7,[0,1,4],[1.0,28.0,47.1])               |\n",
      "|(7,[0,1,4],[1.0,29.0,30.0])               |\n",
      "|(7,[0,1,4],[1.0,29.69911764705882,25.925])|\n",
      "+------------------------------------------+\n",
      "only showing top 20 rows\n",
      "\n"
     ]
    }
   ],
   "source": [
    "train.select('features').show(truncate=False)"
   ]
  },
  {
   "cell_type": "code",
   "execution_count": 74,
   "id": "73bb5e4f",
   "metadata": {},
   "outputs": [
    {
     "name": "stdout",
     "output_type": "stream",
     "text": [
      "+----------------------------------------------+--------+\n",
      "|features                                      |Survived|\n",
      "+----------------------------------------------+--------+\n",
      "|[3.0,22.0,1.0,0.0,7.25,0.0,0.0]               |0       |\n",
      "|[1.0,38.0,1.0,0.0,71.2833,1.0,1.0]            |1       |\n",
      "|[3.0,26.0,0.0,0.0,7.925,1.0,0.0]              |1       |\n",
      "|[1.0,35.0,1.0,0.0,53.1,1.0,0.0]               |1       |\n",
      "|(7,[0,1,4],[3.0,35.0,8.05])                   |0       |\n",
      "|[3.0,29.69911764705882,0.0,0.0,8.4583,0.0,2.0]|0       |\n",
      "|(7,[0,1,4],[1.0,54.0,51.8625])                |0       |\n",
      "|[3.0,2.0,3.0,1.0,21.075,0.0,0.0]              |0       |\n",
      "|[3.0,27.0,0.0,2.0,11.1333,1.0,0.0]            |1       |\n",
      "|[2.0,14.0,1.0,0.0,30.0708,1.0,1.0]            |1       |\n",
      "|[3.0,4.0,1.0,1.0,16.7,1.0,0.0]                |1       |\n",
      "|[1.0,58.0,0.0,0.0,26.55,1.0,0.0]              |1       |\n",
      "|(7,[0,1,4],[3.0,20.0,8.05])                   |0       |\n",
      "|[3.0,39.0,1.0,5.0,31.275,0.0,0.0]             |0       |\n",
      "|[3.0,14.0,0.0,0.0,7.8542,1.0,0.0]             |0       |\n",
      "|[2.0,55.0,0.0,0.0,16.0,1.0,0.0]               |1       |\n",
      "|[3.0,2.0,4.0,1.0,29.125,0.0,2.0]              |0       |\n",
      "|(7,[0,1,4],[2.0,29.69911764705882,13.0])      |1       |\n",
      "|[3.0,31.0,1.0,0.0,18.0,1.0,0.0]               |0       |\n",
      "|[3.0,29.69911764705882,0.0,0.0,7.225,1.0,1.0] |1       |\n",
      "+----------------------------------------------+--------+\n",
      "only showing top 20 rows\n",
      "\n"
     ]
    }
   ],
   "source": [
    "output.select('features','Survived').show(truncate=False)"
   ]
  },
  {
   "cell_type": "markdown",
   "id": "aa9d2f83",
   "metadata": {},
   "source": [
    "## predictions"
   ]
  },
  {
   "cell_type": "code",
   "execution_count": 73,
   "id": "0923f018",
   "metadata": {},
   "outputs": [
    {
     "data": {
      "text/plain": [
       "0.0"
      ]
     },
     "execution_count": 73,
     "metadata": {},
     "output_type": "execute_result"
    }
   ],
   "source": [
    "lrModel.predict(Vectors.dense([[3.0,22.0,1.0,0.0,7.25,0.0,0.0]]))"
   ]
  },
  {
   "cell_type": "code",
   "execution_count": 75,
   "id": "b63a337d",
   "metadata": {},
   "outputs": [
    {
     "data": {
      "text/plain": [
       "1.0"
      ]
     },
     "execution_count": 75,
     "metadata": {},
     "output_type": "execute_result"
    }
   ],
   "source": [
    "lrModel.predict(Vectors.dense([[[1.0,38.0,1.0,0.0,71.2833,1.0,1.0]]]))"
   ]
  },
  {
   "cell_type": "markdown",
   "id": "7e0fce48",
   "metadata": {},
   "source": [
    "## lrModel ## to see model specifications"
   ]
  },
  {
   "cell_type": "code",
   "execution_count": 95,
   "id": "60b916c9",
   "metadata": {},
   "outputs": [
    {
     "name": "stdout",
     "output_type": "stream",
     "text": [
      "3.1.2\n"
     ]
    }
   ],
   "source": [
    "import pyspark\n",
    "print(pyspark.__version__)"
   ]
  },
  {
   "cell_type": "code",
   "execution_count": null,
   "id": "6eb29659",
   "metadata": {},
   "outputs": [],
   "source": []
  },
  {
   "cell_type": "code",
   "execution_count": 99,
   "id": "0c8bcb89",
   "metadata": {},
   "outputs": [],
   "source": [
    "spark.stop()"
   ]
  },
  {
   "cell_type": "code",
   "execution_count": null,
   "id": "7fae3b19",
   "metadata": {},
   "outputs": [],
   "source": []
  }
 ],
 "metadata": {
  "kernelspec": {
   "display_name": "Python 3 (ipykernel)",
   "language": "python",
   "name": "python3"
  },
  "language_info": {
   "codemirror_mode": {
    "name": "ipython",
    "version": 3
   },
   "file_extension": ".py",
   "mimetype": "text/x-python",
   "name": "python",
   "nbconvert_exporter": "python",
   "pygments_lexer": "ipython3",
   "version": "3.10.0"
  }
 },
 "nbformat": 4,
 "nbformat_minor": 5
}
